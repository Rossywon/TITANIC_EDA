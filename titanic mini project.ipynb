{
 "cells": [
  {
   "cell_type": "code",
   "execution_count": 1,
   "id": "df2ab967-6d4b-4299-ba8b-4d18d8b5fa89",
   "metadata": {},
   "outputs": [
    {
     "name": "stdout",
     "output_type": "stream",
     "text": [
      "Requirement already satisfied: pandas in c:\\users\\lenovo\\anaconda3\\lib\\site-packages (2.2.2)\n",
      "Requirement already satisfied: openpyxl in c:\\users\\lenovo\\anaconda3\\lib\\site-packages (3.1.5)\n",
      "Requirement already satisfied: numpy>=1.26.0 in c:\\users\\lenovo\\anaconda3\\lib\\site-packages (from pandas) (1.26.4)\n",
      "Requirement already satisfied: python-dateutil>=2.8.2 in c:\\users\\lenovo\\anaconda3\\lib\\site-packages (from pandas) (2.9.0.post0)\n",
      "Requirement already satisfied: pytz>=2020.1 in c:\\users\\lenovo\\anaconda3\\lib\\site-packages (from pandas) (2024.1)\n",
      "Requirement already satisfied: tzdata>=2022.7 in c:\\users\\lenovo\\anaconda3\\lib\\site-packages (from pandas) (2023.3)\n",
      "Requirement already satisfied: et-xmlfile in c:\\users\\lenovo\\anaconda3\\lib\\site-packages (from openpyxl) (1.1.0)\n",
      "Requirement already satisfied: six>=1.5 in c:\\users\\lenovo\\anaconda3\\lib\\site-packages (from python-dateutil>=2.8.2->pandas) (1.16.0)\n",
      "Note: you may need to restart the kernel to use updated packages.\n"
     ]
    }
   ],
   "source": [
    "pip install pandas openpyxl\n"
   ]
  },
  {
   "cell_type": "code",
   "execution_count": 2,
   "id": "6d90281f-53f1-4d6b-ab5d-bf3e9638f34e",
   "metadata": {},
   "outputs": [],
   "source": [
    "import pandas as pd\n"
   ]
  },
  {
   "cell_type": "code",
   "execution_count": 3,
   "id": "76b4ea4c-b334-4bcb-a6f5-f627b5d5fa49",
   "metadata": {},
   "outputs": [],
   "source": [
    "df = pd.read_excel('TITANIC.xlsx')\n"
   ]
  },
  {
   "cell_type": "code",
   "execution_count": 5,
   "id": "291be5bd-ba66-4313-ac79-bf4d833aece4",
   "metadata": {},
   "outputs": [
    {
     "name": "stdout",
     "output_type": "stream",
     "text": [
      "['survived,pclass,sex,age,sibsp,parch,fare,embarked,class,who,adult_male,deck,embark_town,alive,alone']\n"
     ]
    }
   ],
   "source": [
    "print(df.columns.tolist())\n"
   ]
  },
  {
   "cell_type": "code",
   "execution_count": 6,
   "id": "34d0b9c1-85b8-4c78-aa17-2fe1294dadc2",
   "metadata": {},
   "outputs": [
    {
     "name": "stdout",
     "output_type": "stream",
     "text": [
      "The survival rate of passengers is 38.38%\n"
     ]
    }
   ],
   "source": [
    "import pandas as pd\n",
    "\n",
    "# Step 1: Read the Excel file (no header, because the first row is part of the data)\n",
    "df_raw = pd.read_excel('Titanic.xlsx', header=None)\n",
    "\n",
    "# Step 2: Split the single column (column 0) into multiple columns\n",
    "df_split = df_raw[0].str.split(',', expand=True)\n",
    "\n",
    "# Step 3: Set first row as header\n",
    "df_split.columns = df_split.iloc[0]\n",
    "df_clean = df_split.drop(index=0).reset_index(drop=True)\n",
    "\n",
    "# Step 4: Optional — clean column names (remove spaces, lowercase)\n",
    "df_clean.columns = df_clean.columns.str.strip().str.lower()\n",
    "\n",
    "# Step 5: Convert 'survived' column to numeric (important, since it's still string)\n",
    "df_clean['survived'] = pd.to_numeric(df_clean['survived'])\n",
    "\n",
    "# Step 6: Calculate survival rate\n",
    "survival_rate = df_clean['survived'].mean()\n",
    "print(f\"The survival rate of passengers is {survival_rate:.2%}\")\n"
   ]
  },
  {
   "cell_type": "code",
   "execution_count": null,
   "id": "166381e7-0d40-4b8e-b674-d92ee3851e13",
   "metadata": {},
   "outputs": [],
   "source": [
    "#what is the gender distribution of the passengers"
   ]
  },
  {
   "cell_type": "code",
   "execution_count": 7,
   "id": "19121921-46d8-4e98-a9fd-80fe10926145",
   "metadata": {},
   "outputs": [
    {
     "name": "stdout",
     "output_type": "stream",
     "text": [
      "0\n",
      "survived         int64\n",
      "pclass           int64\n",
      "sex             object\n",
      "age            float64\n",
      "sibsp            int64\n",
      "parch            int64\n",
      "fare           float64\n",
      "embarked        object\n",
      "class           object\n",
      "who             object\n",
      "adult_male      object\n",
      "deck            object\n",
      "embark_town     object\n",
      "alive           object\n",
      "alone           object\n",
      "dtype: object\n",
      "0  survived  pclass     sex   age  sibsp  parch     fare embarked  class  \\\n",
      "0         0       3    male  22.0      1      0   7.2500        S  Third   \n",
      "1         1       1  female  38.0      1      0  71.2833        C  First   \n",
      "2         1       3  female  26.0      0      0   7.9250        S  Third   \n",
      "3         1       1  female  35.0      1      0  53.1000        S  First   \n",
      "4         0       3    male  35.0      0      0   8.0500        S  Third   \n",
      "\n",
      "0    who adult_male deck  embark_town alive  alone  \n",
      "0    man       True       Southampton    no  False  \n",
      "1  woman      False    C    Cherbourg   yes  False  \n",
      "2  woman      False       Southampton   yes   True  \n",
      "3  woman      False    C  Southampton   yes  False  \n",
      "4    man       True       Southampton    no   True  \n"
     ]
    }
   ],
   "source": [
    "# Convert relevant columns to numeric\n",
    "numeric_cols = ['pclass', 'age', 'sibsp', 'parch', 'fare']\n",
    "\n",
    "for col in numeric_cols:\n",
    "    df_clean[col] = pd.to_numeric(df_clean[col], errors='coerce')\n",
    "\n",
    "# Check data types to confirm\n",
    "print(df_clean.dtypes)\n",
    "\n",
    "# Look at first few rows again\n",
    "print(df_clean.head())\n"
   ]
  },
  {
   "cell_type": "code",
   "execution_count": 8,
   "id": "c0fbc14f-bf1e-4288-9b44-47907dd4c484",
   "metadata": {},
   "outputs": [
    {
     "name": "stdout",
     "output_type": "stream",
     "text": [
      "sex\n",
      "male      577\n",
      "female    314\n",
      "Name: count, dtype: int64\n"
     ]
    }
   ],
   "source": [
    "gender_counts = df_clean['sex'].value_counts()\n",
    "print(gender_counts)\n"
   ]
  },
  {
   "cell_type": "code",
   "execution_count": null,
   "id": "f7056742-d170-4e1c-86ab-dd974ac6f059",
   "metadata": {},
   "outputs": [],
   "source": [
    "#how does survival rate differ by class"
   ]
  },
  {
   "cell_type": "code",
   "execution_count": 9,
   "id": "63e9ed56-6680-4e6a-a387-479a16124f9c",
   "metadata": {},
   "outputs": [
    {
     "name": "stdout",
     "output_type": "stream",
     "text": [
      "pclass\n",
      "1    0.629630\n",
      "2    0.472826\n",
      "3    0.242363\n",
      "Name: survived, dtype: float64\n"
     ]
    }
   ],
   "source": [
    "# Group by class and calculate survival rate\n",
    "survival_by_class = df_clean.groupby('pclass')['survived'].mean()\n",
    "\n",
    "print(survival_by_class)\n"
   ]
  },
  {
   "cell_type": "code",
   "execution_count": null,
   "id": "51373e48-db64-472b-bc98-657d7ad100ac",
   "metadata": {},
   "outputs": [],
   "source": [
    "#what is the distribution of the passengers ages"
   ]
  },
  {
   "cell_type": "code",
   "execution_count": 10,
   "id": "84ccde7c-203d-490b-ac50-70e7b9fe493c",
   "metadata": {},
   "outputs": [],
   "source": [
    "df_clean['age'] = pd.to_numeric(df_clean['age'], errors='coerce')\n"
   ]
  },
  {
   "cell_type": "code",
   "execution_count": 11,
   "id": "4b1edea1-088b-4e52-b716-de39a0710a4e",
   "metadata": {},
   "outputs": [
    {
     "name": "stdout",
     "output_type": "stream",
     "text": [
      "count    714.000000\n",
      "mean      29.699118\n",
      "std       14.526497\n",
      "min        0.420000\n",
      "25%       20.125000\n",
      "50%       28.000000\n",
      "75%       38.000000\n",
      "max       80.000000\n",
      "Name: age, dtype: float64\n"
     ]
    }
   ],
   "source": [
    "print(df_clean['age'].describe())\n"
   ]
  },
  {
   "cell_type": "code",
   "execution_count": 12,
   "id": "7d97ec1d-e4fa-4410-9e4b-8ecba0c909bd",
   "metadata": {},
   "outputs": [
    {
     "data": {
      "image/png": "[encoded data removed]",
      "text/plain": [
       "<Figure size 640x480 with 1 Axes>"
      ]
     },
     "metadata": {},
     "output_type": "display_data"
    }
   ],
   "source": [
    "import matplotlib.pyplot as plt\n",
    "\n",
    "plt.hist(df_clean['age'].dropna(), bins=20, edgecolor='black')\n",
    "plt.title('Age Distribution of Titanic Passengers')\n",
    "plt.xlabel('Age')\n",
    "plt.ylabel('Number of Passengers')\n",
    "plt.show()\n"
   ]
  },
  {
   "cell_type": "code",
   "execution_count": null,
   "id": "70d003dd-05bb-408a-b610-63ededd163a3",
   "metadata": {},
   "outputs": [],
   "source": [
    "#how many passengers embarked from each location"
   ]
  },
  {
   "cell_type": "code",
   "execution_count": 13,
   "id": "65e36984-883f-4320-ac50-7ed4c2abcde0",
   "metadata": {},
   "outputs": [
    {
     "name": "stdout",
     "output_type": "stream",
     "text": [
      "embark_town\n",
      "Southampton    644\n",
      "Cherbourg      168\n",
      "Queenstown      77\n",
      "                 2\n",
      "Name: count, dtype: int64\n"
     ]
    }
   ],
   "source": [
    "embark_town_counts = df_clean['embark_town'].value_counts()\n",
    "print(embark_town_counts)\n"
   ]
  },
  {
   "cell_type": "code",
   "execution_count": null,
   "id": "a76a853e-4ac0-4e8b-b241-9b8af8aa907f",
   "metadata": {},
   "outputs": [],
   "source": [
    "#what is the average fair paid by class"
   ]
  },
  {
   "cell_type": "code",
   "execution_count": 14,
   "id": "8cea4779-3e1b-4768-a5ea-a1bd1029fc6f",
   "metadata": {},
   "outputs": [
    {
     "name": "stdout",
     "output_type": "stream",
     "text": [
      "pclass\n",
      "1    84.154687\n",
      "2    20.662183\n",
      "3    13.675550\n",
      "Name: fare, dtype: float64\n"
     ]
    }
   ],
   "source": [
    "# Make sure 'fare' column is numeric (important if any values are still strings)\n",
    "df_clean['fare'] = pd.to_numeric(df_clean['fare'], errors='coerce')\n",
    "\n",
    "# Group by class and calculate average fare\n",
    "average_fare_per_class = df_clean.groupby('pclass')['fare'].mean()\n",
    "\n",
    "print(average_fare_per_class)\n"
   ]
  },
  {
   "cell_type": "code",
   "execution_count": 15,
   "id": "cdcb6cab-d2b7-4bb7-978e-84950ac629cf",
   "metadata": {},
   "outputs": [
    {
     "name": "stdout",
     "output_type": "stream",
     "text": [
      "sex\n",
      "female    0.742038\n",
      "male      0.188908\n",
      "Name: survived, dtype: float64\n"
     ]
    }
   ],
   "source": [
    "#how does gender affect survival rate\n",
    "survival_by_gender = df_clean.groupby('sex')['survived'].mean()\n",
    "\n",
    "print(survival_by_gender)\n"
   ]
  },
  {
   "cell_type": "code",
   "execution_count": 16,
   "id": "dd92d28e-ea1e-48eb-ae69-7b832b3ae418",
   "metadata": {},
   "outputs": [
    {
     "name": "stdout",
     "output_type": "stream",
     "text": [
      "sex\n",
      "female    74.20\n",
      "male      18.89\n",
      "Name: survived, dtype: float64\n"
     ]
    }
   ],
   "source": [
    "print((survival_by_gender * 100).round(2))\n"
   ]
  },
  {
   "cell_type": "code",
   "execution_count": null,
   "id": "900c6271-651a-4d46-97e2-026bcd2ec790",
   "metadata": {},
   "outputs": [],
   "source": [
    "#what is the correlation between fare and survival"
   ]
  },
  {
   "cell_type": "code",
   "execution_count": 17,
   "id": "a7e6743a-773a-48ce-9631-b87b35387408",
   "metadata": {},
   "outputs": [],
   "source": [
    "df_clean['fare'] = pd.to_numeric(df_clean['fare'], errors='coerce')\n",
    "df_clean['survived'] = pd.to_numeric(df_clean['survived'], errors='coerce')\n"
   ]
  },
  {
   "cell_type": "code",
   "execution_count": 18,
   "id": "cdcee1f6-d66e-4d0b-b5a5-beb42e318192",
   "metadata": {},
   "outputs": [
    {
     "name": "stdout",
     "output_type": "stream",
     "text": [
      "Correlation between fare and survival: 0.26\n"
     ]
    }
   ],
   "source": [
    "correlation = df_clean['fare'].corr(df_clean['survived'])\n",
    "print(f\"Correlation between fare and survival: {correlation:.2f}\")\n"
   ]
  },
  {
   "cell_type": "code",
   "execution_count": null,
   "id": "7e13c073-8ae1-471b-816a-655be6aff180",
   "metadata": {},
   "outputs": [],
   "source": []
  }
 ],
 "metadata": {
  "kernelspec": {
   "display_name": "Python [conda env:base] *",
   "language": "python",
   "name": "conda-base-py"
  },
  "language_info": {
   "codemirror_mode": {
    "name": "ipython",
    "version": 3
   },
   "file_extension": ".py",
   "mimetype": "text/x-python",
   "name": "python",
   "nbconvert_exporter": "python",
   "pygments_lexer": "ipython3",
   "version": "3.12.7"
  }
 },
 "nbformat": 4,
 "nbformat_minor": 5
}
