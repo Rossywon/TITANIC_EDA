{
 "cells": [
  {
   "cell_type": "markdown",
   "id": "94bf5ca1",
   "metadata": {},
   "source": [
    "\n",
    "# Titanic Survival Analysis\n",
    "\n",
    "This project analyzes the Titanic dataset to explore key factors affecting passenger survival.\n",
    "\n",
    "We will cover:\n",
    "- Data Loading & Cleaning\n",
    "- Exploratory Data Analysis (EDA)\n",
    "- Survival Rates by Various Features\n",
    "- Key Insights\n",
    "\n",
    "---\n"
   ]
  },
  {
   "cell_type": "markdown",
   "id": "47a52837",
   "metadata": {},
   "source": [
    "## 1. Data Loading"
   ]
  },
  {
   "cell_type": "code",
   "execution_count": null,
   "id": "448c24a9",
   "metadata": {},
   "outputs": [],
   "source": [
    "\n",
    "import pandas as pd\n",
    "import numpy as np\n",
    "import matplotlib.pyplot as plt\n",
    "import seaborn as sns\n",
    "\n",
    "# Read the Excel file (assuming single column string, as original)\n",
    "df_raw = pd.read_excel('Titanic.xlsx', header=None)\n",
    "\n",
    "# Split into columns\n",
    "df_split = df_raw[0].str.split(',', expand=True)\n",
    "df_split.columns = df_split.iloc[0]\n",
    "df_clean = df_split.drop(index=0).reset_index(drop=True)\n",
    "\n",
    "# Clean column names\n",
    "df_clean.columns = df_clean.columns.str.strip().str.lower()\n",
    "\n",
    "# Convert relevant columns to numeric\n",
    "cols_to_numeric = ['survived', 'pclass', 'age', 'sibsp', 'parch', 'fare']\n",
    "for col in cols_to_numeric:\n",
    "    df_clean[col] = pd.to_numeric(df_clean[col], errors='coerce')\n",
    "\n",
    "# Preview data\n",
    "df_clean.head()\n"
   ]
  },
  {
   "cell_type": "markdown",
   "id": "a89c68d6",
   "metadata": {},
   "source": [
    "## 2. Data Cleaning"
   ]
  },
  {
   "cell_type": "code",
   "execution_count": null,
   "id": "65727ccd",
   "metadata": {},
   "outputs": [],
   "source": [
    "\n",
    "# Check for missing values\n",
    "df_clean.isnull().sum()\n"
   ]
  },
  {
   "cell_type": "markdown",
   "id": "2c52197c",
   "metadata": {},
   "source": [
    "## 3. Exploratory Data Analysis (EDA)"
   ]
  },
  {
   "cell_type": "markdown",
   "id": "d61006d6",
   "metadata": {},
   "source": [
    "### 3.1 Gender Distribution"
   ]
  },
  {
   "cell_type": "code",
   "execution_count": null,
   "id": "59279e30",
   "metadata": {},
   "outputs": [],
   "source": [
    "\n",
    "gender_counts = df_clean['sex'].value_counts()\n",
    "print(gender_counts)\n",
    "\n",
    "# Plot gender distribution\n",
    "gender_counts.plot(kind='bar', color=['skyblue', 'salmon'])\n",
    "plt.title('Gender Distribution')\n",
    "plt.xlabel('Gender')\n",
    "plt.ylabel('Number of Passengers')\n",
    "plt.xticks(rotation=0)\n",
    "plt.show()\n"
   ]
  },
  {
   "cell_type": "markdown",
   "id": "1952490d",
   "metadata": {},
   "source": [
    "### 3.2 Age Distribution"
   ]
  },
  {
   "cell_type": "code",
   "execution_count": null,
   "id": "63d90caf",
   "metadata": {},
   "outputs": [],
   "source": [
    "\n",
    "# Summary statistics for age\n",
    "print(df_clean['age'].describe())\n",
    "\n",
    "# Plot age distribution\n",
    "plt.figure(figsize=(8,5))\n",
    "sns.histplot(df_clean['age'], bins=20, kde=True)\n",
    "plt.title('Age Distribution')\n",
    "plt.xlabel('Age')\n",
    "plt.ylabel('Count')\n",
    "plt.show()\n"
   ]
  },
  {
   "cell_type": "markdown",
   "id": "24e05dd1",
   "metadata": {},
   "source": [
    "### 3.3 Embarkation Distribution"
   ]
  },
  {
   "cell_type": "code",
   "execution_count": null,
   "id": "7569b67e",
   "metadata": {},
   "outputs": [],
   "source": [
    "\n",
    "embark_counts = df_clean['embark_town'].value_counts()\n",
    "print(embark_counts)\n",
    "\n",
    "embark_counts.plot(kind='bar', color='orange')\n",
    "plt.title('Passengers by Embarkation Town')\n",
    "plt.xlabel('Embarkation Town')\n",
    "plt.ylabel('Number of Passengers')\n",
    "plt.xticks(rotation=15)\n",
    "plt.show()\n"
   ]
  },
  {
   "cell_type": "markdown",
   "id": "f2da6e96",
   "metadata": {},
   "source": [
    "### 3.4 Survival Rate by Gender"
   ]
  },
  {
   "cell_type": "code",
   "execution_count": null,
   "id": "b8f9785d",
   "metadata": {},
   "outputs": [],
   "source": [
    "\n",
    "survival_by_gender = df_clean.groupby('sex')['survived'].mean()\n",
    "print((survival_by_gender * 100).round(2))\n",
    "\n",
    "# Visualize\n",
    "survival_by_gender.plot(kind='bar', color=['salmon', 'skyblue'])\n",
    "plt.title('Survival Rate by Gender')\n",
    "plt.xlabel('Gender')\n",
    "plt.ylabel('Survival Rate')\n",
    "plt.ylim(0, 1)\n",
    "plt.xticks(rotation=0)\n",
    "plt.show()\n"
   ]
  },
  {
   "cell_type": "markdown",
   "id": "4f27f1d4",
   "metadata": {},
   "source": [
    "### 3.5 Survival Rate by Passenger Class"
   ]
  },
  {
   "cell_type": "code",
   "execution_count": null,
   "id": "d6d390af",
   "metadata": {},
   "outputs": [],
   "source": [
    "\n",
    "survival_by_class = df_clean.groupby('pclass')['survived'].mean()\n",
    "print((survival_by_class * 100).round(2))\n",
    "\n",
    "# Visualize\n",
    "survival_by_class.plot(kind='bar', color='green')\n",
    "plt.title('Survival Rate by Class')\n",
    "plt.xlabel('Passenger Class')\n",
    "plt.ylabel('Survival Rate')\n",
    "plt.ylim(0, 1)\n",
    "plt.xticks(rotation=0)\n",
    "plt.show()\n"
   ]
  },
  {
   "cell_type": "markdown",
   "id": "4479513e",
   "metadata": {},
   "source": [
    "### 3.6 Average Fare Paid per Class"
   ]
  },
  {
   "cell_type": "code",
   "execution_count": null,
   "id": "8e874570",
   "metadata": {},
   "outputs": [],
   "source": [
    "\n",
    "fare_by_class = df_clean.groupby('pclass')['fare'].mean()\n",
    "print(fare_by_class.round(2))\n",
    "\n",
    "fare_by_class.plot(kind='bar', color='purple')\n",
    "plt.title('Average Fare per Class')\n",
    "plt.xlabel('Passenger Class')\n",
    "plt.ylabel('Average Fare')\n",
    "plt.xticks(rotation=0)\n",
    "plt.show()\n"
   ]
  },
  {
   "cell_type": "markdown",
   "id": "e03cad57",
   "metadata": {},
   "source": [
    "### 3.7 Correlation between Fare and Survival"
   ]
  },
  {
   "cell_type": "code",
   "execution_count": null,
   "id": "5c6a19df",
   "metadata": {},
   "outputs": [],
   "source": [
    "\n",
    "correlation = df_clean['fare'].corr(df_clean['survived'])\n",
    "print(f\"Correlation between fare and survival: {correlation:.2f}\")\n",
    "\n",
    "# Visualize\n",
    "sns.boxplot(x='survived', y='fare', data=df_clean)\n",
    "plt.title('Fare vs Survival')\n",
    "plt.xlabel('Survived (0 = No, 1 = Yes)')\n",
    "plt.ylabel('Fare')\n",
    "plt.show()\n"
   ]
  },
  {
   "cell_type": "markdown",
   "id": "c4ac2ada",
   "metadata": {},
   "source": [
    "## 4. Key Findings"
   ]
  },
  {
   "cell_type": "markdown",
   "id": "1dc7c227",
   "metadata": {},
   "source": [
    "\n",
    "- Majority of passengers were male (~65%).\n",
    "- Median age of passengers was around 28 years.\n",
    "- Most passengers embarked from Southampton.\n",
    "- Females had a much higher survival rate (~74%) than males (~19%).\n",
    "- 1st class passengers had the highest survival rate (~62%).\n",
    "- Passengers in higher classes paid significantly higher fares.\n",
    "- A small positive correlation exists between fare paid and survival.\n",
    "\n",
    "---\n",
    "\n",
    "This completes the Titanic exploratory data analysis.\n"
   ]
  }
 ],
 "metadata": {
  "kernelspec": {
   "display_name": "Python [conda env:base] *",
   "language": "python",
   "name": "conda-base-py"
  },
  "language_info": {
   "codemirror_mode": {
    "name": "ipython",
    "version": 3
   },
   "file_extension": ".py",
   "mimetype": "text/x-python",
   "name": "python",
   "nbconvert_exporter": "python",
   "pygments_lexer": "ipython3",
   "version": "3.12.7"
  }
 },
 "nbformat": 4,
 "nbformat_minor": 5
}
